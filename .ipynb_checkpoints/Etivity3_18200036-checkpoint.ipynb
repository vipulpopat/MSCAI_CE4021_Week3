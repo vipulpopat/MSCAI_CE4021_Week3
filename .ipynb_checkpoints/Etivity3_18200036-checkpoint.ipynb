{
 "cells": [
  {
   "cell_type": "markdown",
   "metadata": {},
   "source": [
    "#Student Name: Brian Parle\n",
    "#Student ID:   18200036"
   ]
  },
  {
   "cell_type": "markdown",
   "metadata": {},
   "source": [
    "#### Write Python functions for the following operations on matrices without making use of imported modules:\n",
    "\n",
    "- Providing the size of a matrix as a 2-dimensional tuple\n",
    "- Summing and subtracting two matrices\n",
    "- Multiplying two matrices or a vector and a matrix of suitable size\n",
    "\n",
    "GIT commit your tested code and push to your remote branch. Submit a message to the E-tivity 3: Matrices forum with a detailed description of how you have implemented the above described functionality and the name of your git branch. As part of this message, provide a worked out example of each of the operations detailed above applied to a 2x2 matrix of your choosing and verify that the results obtained with your functions are correct. You may add these calculations to your post using the formula editor or as a scan of handwritten notes.\n",
    "\n"
   ]
  },
  {
   "cell_type": "markdown",
   "metadata": {},
   "source": [
    "##### Methodology\n",
    "I will continue to use TDD as it worked well for me in Etivty2 to evolve the solution.\n",
    "I will use simple function calls to perform tests, rather than employ the full unittest framework\n",
    "I have a goal to exploit lambda functions if possible for simple functions where appropriate\n",
    "Matrices will be represented as a list of lists\n",
    "\n",
    "Assumptions:\n",
    "Matrices are valid i.e. each list entry represents a row, and each row will have the same number of elements\n",
    "I will dispense with a prettyprint function\n",
    "\n",
    "Iterations\n",
    "1. write matrix_get_size function\n",
    "2. write matrix_add function\n",
    "3. write matrix_subtract function - amend matrix_add to allow passing of add or subtract function\n",
    "4. write matrix * vector function, assuming suitable sizes"
   ]
  },
  {
   "cell_type": "code",
   "execution_count": 21,
   "metadata": {},
   "outputs": [
    {
     "name": "stdout",
     "output_type": "stream",
     "text": [
      "(2, 2)\n",
      "(3, 5)\n",
      "[2, 3]\n",
      "[5, 1]\n",
      "[[-1, 5], [12, 1]]\n",
      "[7, 2, 6.6, -5, 4]\n",
      "[8, 0, 7, 5, 3.1]\n",
      "[3.1, -2, 6, 4.4, 0]\n",
      "[[11, 3, 7.6, -5, 3], [11, -6, 9, 1.7999999999999998, 3.0], [5.4, 2.5, 8.3, -0.09999999999999964, -2.3]]\n"
     ]
    }
   ],
   "source": [
    "def matrix_get_size(matrix):\n",
    "    \"\"\"\n",
    "    Matrix size is (number of rows, number of columns)\n",
    "    \"\"\"\n",
    "    return (len(matrix), len(matrix[0]))\n",
    "\n",
    "def matrix_add(matrix1, matrix2):\n",
    "    \"\"\"\n",
    "    Assume 2 matrices are the same size\n",
    "    \"\"\"\n",
    "    new_matrix = []\n",
    "    for rowindex, row in enumerate(matrix1):\n",
    "        new_row = []\n",
    "        print(matrix1[rowindex])\n",
    "        for colindex, col in enumerate(matrix1[rowindex]):\n",
    "            new_row.append (row[colindex] + matrix2[rowindex][colindex])\n",
    "        new_matrix.append (new_row)\n",
    "    return new_matrix\n",
    "\n",
    "#Test 1 - test a function to return the size of a 2x2 matrix.\n",
    "two_by_two_matrix = [[2,3],[5,1]]\n",
    "print (matrix_get_size(two_by_two_matrix))\n",
    "\n",
    "#Test 2 - get size of a 3x5 matrix\n",
    "three_by_five_matrix = [[7,2,6.6,-5,4],[8,0,7,5,3.1],[3.1,-2,6,4.4,0]]\n",
    "print (matrix_get_size(three_by_five_matrix))\n",
    "\n",
    "#Test 3 - test the summing of 2 matrices\n",
    "another_two_by_two_matrix = [[-3,2],[7,0]]\n",
    "another_three_by_five_matrix = [[4,1,1,0,-1],[3,-6,2,-3.2,-0.1],[2.3,4.5,2.3,-4.5,-2.3]]\n",
    "print (matrix_add(two_by_two_matrix, another_two_by_two_matrix))\n",
    "print (matrix_add(three_by_five_matrix,another_three_by_five_matrix))"
   ]
  },
  {
   "cell_type": "code",
   "execution_count": null,
   "metadata": {},
   "outputs": [],
   "source": []
  }
 ],
 "metadata": {
  "kernelspec": {
   "display_name": "Python 3",
   "language": "python",
   "name": "python3"
  },
  "language_info": {
   "codemirror_mode": {
    "name": "ipython",
    "version": 3
   },
   "file_extension": ".py",
   "mimetype": "text/x-python",
   "name": "python",
   "nbconvert_exporter": "python",
   "pygments_lexer": "ipython3",
   "version": "3.6.5"
  }
 },
 "nbformat": 4,
 "nbformat_minor": 1
}
