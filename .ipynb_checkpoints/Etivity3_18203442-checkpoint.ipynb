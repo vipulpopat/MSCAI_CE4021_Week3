{
 "cells": [
  {
   "cell_type": "markdown",
   "metadata": {},
   "source": [
    "#Student Name: Andrew Kenny\n",
    "#Student ID: 18203442\n",
    "\n",
    "#Task:Write Python functions for the following operations on matrices without making use of imported modules:\n",
    "- Providing the size of a matrix as a 2-dimensional tuple\n",
    "- Summing and subtracting two matrices\n",
    "- Multiplying two matrices or a vector and a matrix of suitable size"
   ]
  },
  {
   "cell_type": "code",
   "execution_count": 20,
   "metadata": {
    "collapsed": false
   },
   "outputs": [
    {
     "name": "stdout",
     "output_type": "stream",
     "text": [
      "(2, 2)\n",
      "[[5, 8], [-6, 12]]\n",
      "[[-1, -2], [0, -2]]\n",
      "[[-3, 31], [-24, 20]]\n"
     ]
    }
   ],
   "source": [
    "# Matrices for testing\n",
    "\n",
    "matrix_a = [[2,3],\n",
    "           [-3,5]]\n",
    "matrix_b = [[3,5],\n",
    "           [-3,7]]\n",
    "\n",
    "#function to provide the size of a matrix as a 2-dimensional tuple\n",
    "def getSize(matrix):\n",
    "    rows = len(matrix)                                    #find no rows\n",
    "    columns = len(matrix[0])                              #find no columns\n",
    "    size = (rows, columns)\n",
    "    return size\n",
    "\n",
    "#function to sum two matrices\n",
    "def addMatrices(matrix_1, matrix_2):\n",
    "    add_result = []\n",
    "    \n",
    "    for i in range(len(matrix_1)):                        #iterate through rows\n",
    "        row = []\n",
    "        for j in range(len(matrix_1[0])):                 #iterate through columns\n",
    "            row.append(matrix_1[i][j] + matrix_2[i][j])   #add corresponding scalar in each matrix\n",
    "        add_result.append(row)\n",
    "    return add_result\n",
    "\n",
    "#function to subtract two matrices\n",
    "def subMatrices(matrix_1, matrix_2):\n",
    "    sub_result = []\n",
    "    \n",
    "    for i in range(len(matrix_1)):                        #iterate through rows\n",
    "        row = []\n",
    "        for j in range(len(matrix_1[0])):                 #iterate through columns\n",
    "            row.append(matrix_1[i][j] - matrix_2[i][j])   #subtract corresponding scalar in each matrix\n",
    "        sub_result.append(row)\n",
    "    return sub_result\n",
    "\n",
    "#function to multiply two matrices\n",
    "def multMatrices(matrix_1, matrix_2):    \n",
    "    I = range(len(matrix_1))                             #find rows of matrix_1\n",
    "    J = range(len(matrix_2[0]))                          #find columns of matrix_2\n",
    "    K = range(len(matrix_1[0]))                          #find columns of matrix_1\n",
    "    \n",
    "    #multiply and add corresponding rows of matrix_1 by columns in matrix_2 (i.e. row 1 by column 1 etc)\n",
    "    return [[sum([matrix_1[i][k]*matrix_2[k][j] for k in K]) for j in J] for i in I] \n",
    "\n",
    "#Tests\n",
    "\n",
    "print (getSize(matrix_a))\n",
    "print (addMatrices(matrix_a,matrix_b))\n",
    "print (subMatrices(matrix_a,matrix_b))\n",
    "print (multMatrices(matrix_a,matrix_b))"
   ]
  },
  {
   "cell_type": "code",
   "execution_count": null,
   "metadata": {
    "collapsed": true
   },
   "outputs": [],
   "source": []
  }
 ],
 "metadata": {
  "kernelspec": {
   "display_name": "Python 3.6",
   "language": "python",
   "name": "python3.6"
  },
  "language_info": {
   "codemirror_mode": {
    "name": "ipython",
    "version": 3
   },
   "file_extension": ".py",
   "mimetype": "text/x-python",
   "name": "python",
   "nbconvert_exporter": "python",
   "pygments_lexer": "ipython3",
   "version": "3.6.6"
  }
 },
 "nbformat": 4,
 "nbformat_minor": 0
}
