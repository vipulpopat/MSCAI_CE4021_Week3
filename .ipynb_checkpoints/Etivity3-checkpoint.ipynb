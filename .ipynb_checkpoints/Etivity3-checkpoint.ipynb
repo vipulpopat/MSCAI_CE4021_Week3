{
 "cells": [
  {
   "cell_type": "markdown",
   "metadata": {},
   "source": [
    "#Student Name:Niall Tierney\n",
    "#Student ID:18200044"
   ]
  },
  {
   "cell_type": "code",
   "execution_count": null,
   "metadata": {},
   "outputs": [],
   "source": [
    "mul_matrix_1 = ((1,2), (3,4), (5,6))\n",
    "mul_matrix_2 = ((2,3,4), (5,4,6))\n",
    "sub_matrix_1 = ((2,3,4), (5,4,6))\n",
    "sub_matrix_2 = ((4,7,5), (2,3,5))\n",
    "vector1 = (2,5,7)\n",
    "\n",
    "def matrix_mmul(m1, m2):\n",
    "    for r in range(len(m1)):\n",
    "        c_string = ''\n",
    "        for n_r in range(len(m1)):\n",
    "            e = 0\n",
    "            for c in range(len((m1[0]))):\n",
    "                e += m1[r][c]*m2[c][n_r]\n",
    "            c_string = c_string + str(e) + ',  '\n",
    "        print(c_string[:-3])\n",
    "    print('_ _ _ _ _ _ _ _ _ _ _ ')\n",
    "\n",
    "def mul_vec_mat(vec, mat):\n",
    "    string = ''\n",
    "    for r in range(len(mat[0])):\n",
    "        e = 0\n",
    "        for c in range(len(vec)):\n",
    "            e += vec[c] * mat[c][r]\n",
    "        string = string + str(e)+',  '\n",
    "    print(string[:-3])\n",
    "    print('_ _ _ _ _ _ _ _ _ _ _ ')\n",
    "\n",
    "\n",
    "def matrix_cal(m1, m2, operation):\n",
    "\n",
    "    for r in range(len(m1)):\n",
    "        string = ''\n",
    "        for c in range(len(m1[0])):\n",
    "            if operation == '-':e = m1[r][c] - m2[r][c]\n",
    "            if operation == '+': e = m1[r][c] + m2[r][c]\n",
    "            string = string + str(e) +',  '\n",
    "        print(string[:-3])\n",
    "    print('_ _ _ _ _ _ _ _ _ _ _ ')\n",
    "\n",
    "\n",
    "def main():\n",
    "    mul_vec_mat(vector1, mul_matrix_1)\n",
    "    matrix_cal(sub_matrix_1, sub_matrix_2, '+')\n",
    "    matrix_mmul(mul_matrix_1, mul_matrix_2)\n",
    "\n",
    "if __name__ == '__main__':\n",
    "    main()"
   ]
  }
 ],
 "metadata": {
  "kernelspec": {
   "display_name": "Python 3",
   "language": "python",
   "name": "python3"
  },
  "language_info": {
   "codemirror_mode": {
    "name": "ipython",
    "version": 3
   },
   "file_extension": ".py",
   "mimetype": "text/x-python",
   "name": "python",
   "nbconvert_exporter": "python",
   "pygments_lexer": "ipython3",
   "version": "3.6.5"
  }
 },
 "nbformat": 4,
 "nbformat_minor": 1
}
