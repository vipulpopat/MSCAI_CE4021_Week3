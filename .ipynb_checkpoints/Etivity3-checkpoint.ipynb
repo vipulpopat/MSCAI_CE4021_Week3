{
 "cells": [
  {
   "cell_type": "markdown",
   "metadata": {},
   "source": [
    "#Student Name: Garret Molloy\n",
    "#Student ID: 9021906"
   ]
  },
  {
   "cell_type": "code",
   "execution_count": 57,
   "metadata": {},
   "outputs": [
    {
     "name": "stdout",
     "output_type": "stream",
     "text": [
      "\n",
      "Result of Mutliplying 2 Matrices\n",
      "Matrix 1:\n",
      "[[4, 1, 3], [2, -5, 7]]\n",
      "\n",
      "Matrix 2:\n",
      "[[-2, 3], [-4, -2], [5, 1]]\n",
      "\n",
      "m1: rows:2 cols:3\n",
      "m2: rows:3 cols:2\n",
      "\n",
      "\n",
      "Result Matrix (2x2)\n",
      "[[0, 0], [0, 0]]\n",
      "\n",
      "Row[-8][0] of 1:   add 4 * -2 = -8\n",
      "Row[-4][1] of 1:   add 1 * -4 = -4\n",
      "Row[15][2] of 1:   add 3 * 5 = 15\n",
      "Total for Row[0] Col[0] = 3\n",
      "Row[12][0] of 1:   add 4 * 3 = 12\n",
      "Row[-2][1] of 1:   add 1 * -2 = -2\n",
      "Row[3][2] of 1:   add 3 * 1 = 3\n",
      "Total for Row[0] Col[1] = 13\n",
      "Row[-4][0] of 1:   add 2 * -2 = -4\n",
      "Row[20][1] of 1:   add -5 * -4 = 20\n",
      "Row[35][2] of 1:   add 7 * 5 = 35\n",
      "Total for Row[1] Col[0] = 51\n",
      "Row[6][0] of 1:   add 2 * 3 = 6\n",
      "Row[10][1] of 1:   add -5 * -2 = 10\n",
      "Row[7][2] of 1:   add 7 * 1 = 7\n",
      "Total for Row[1] Col[1] = 23\n",
      "\n",
      "[[3, 13], [51, 23]]\n"
     ]
    }
   ],
   "source": [
    "m1 = [ [0, 1], [2, 3],[4, 5] ]\n",
    "m2 = [ [9, 8], [7, 6]]\n",
    "\n",
    "m3 = [[4,1,3], [2,-5, 7]]\n",
    "m4 = [[-2,3], [-4,-2], [5,1]]\n",
    "                        \n",
    "def checkSame(my_list):\n",
    "    num = len(my_list[0])\n",
    "    for i in my_list:\n",
    "        if(num != len(i)):\n",
    "            return False\n",
    "    return True\n",
    "\n",
    "def multiply(matrix1, matrix2):\n",
    "    rows_m1 = len(matrix1)\n",
    "    cols_m1 = len(matrix1[0])\n",
    "    rows_m2 = len(matrix2)\n",
    "    cols_m2 = len(matrix2[0])\n",
    "    \n",
    "    print(\"Matrix 1:\")\n",
    "    print(matrix1)\n",
    "    print(\"\")\n",
    "    print(\"Matrix 2:\")\n",
    "    print(matrix2)\n",
    "    print(\"\")\n",
    "    print(\"m1: rows:{0} cols:{1}\".format(rows_m1, cols_m1))\n",
    "    print(\"m2: rows:{0} cols:{1}\".format(rows_m2, cols_m2))\n",
    "    print(\"\")\n",
    "    print(\"\")\n",
    "    \n",
    "    # output matrix is rows_m1 x cols_m2\n",
    "    result = [0] * rows_m1\n",
    "    for i in range(rows_m1):\n",
    "        result[i] = [0] * cols_m2\n",
    "    print(\"Result Matrix ({0}x{1})\".format(rows_m1,cols_m2))\n",
    "    print(result)\n",
    "    print(\"\")\n",
    "    \n",
    "    #check if the number of columns in m1 = number of rows in m2    \n",
    "    if (cols_m1 == rows_m2):  # proceed\n",
    "        \n",
    "        for i in range(rows_m1):\n",
    "            for j in range(cols_m2):\n",
    "                for k in range (cols_m1):\n",
    "                    print(\"Row[{4}][{0}] of {1}:   add {2} * {3} = {4}\".format(k, cols_m2-1, matrix1[i][k], matrix2[k][j], (matrix1[i][k] * matrix2[k][j]) ))\n",
    "                    result[i][j] += matrix1[i][k] * matrix2[k][j]\n",
    "                print(\"Total for Row[{0}] Col[{1}] = {2}\".format(i,j,result[i][j]))\n",
    "    print(\"\") \n",
    "    return result\n",
    "            \n",
    "    \n",
    "        \n",
    "print(\"\")\n",
    "print(\"Result of Mutliplying 2 Matrices\")\n",
    "print(multiply(m3, m4))\n"
   ]
  },
  {
   "cell_type": "code",
   "execution_count": null,
   "metadata": {},
   "outputs": [],
   "source": []
  }
 ],
 "metadata": {
  "kernelspec": {
   "display_name": "Python 3",
   "language": "python",
   "name": "python3"
  },
  "language_info": {
   "codemirror_mode": {
    "name": "ipython",
    "version": 3
   },
   "file_extension": ".py",
   "mimetype": "text/x-python",
   "name": "python",
   "nbconvert_exporter": "python",
   "pygments_lexer": "ipython3",
   "version": "3.7.0"
  }
 },
 "nbformat": 4,
 "nbformat_minor": 1
}
