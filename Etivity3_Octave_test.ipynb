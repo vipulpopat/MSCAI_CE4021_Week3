{
 "cells": [
  {
   "cell_type": "code",
   "execution_count": 7,
   "metadata": {},
   "outputs": [
    {
     "name": "stdout",
     "output_type": "stream",
     "text": [
      "vec_test =\n",
      "\n",
      "   1   2   3\n",
      "\n",
      "arr_t1 =\n",
      "\n",
      "   1   2\n",
      "   3   4\n",
      "\n",
      "arr_t2 =\n",
      "\n",
      "    5    9\n",
      "   15   27\n",
      "\n",
      "arr_t3 =\n",
      "\n",
      "   1   2   4   3\n",
      "   3   4   7   1\n",
      "   3   3   1   5\n",
      "   4   3   5   1\n",
      "\n",
      "arr_t4 =\n",
      "\n",
      "   5   9   1   3\n",
      "   1   5   2   7\n",
      "   6   6   5   3\n",
      "   5   4   7   8\n",
      "\n",
      "arr_t5 =\n",
      "\n",
      "   5   1   5\n",
      "   1   2   5\n",
      "   6   2   6\n",
      "\n"
     ]
    }
   ],
   "source": [
    "vec_test = [1,2,3]\n",
    "arr_t1 = [1,2;3,4]\n",
    "arr_t2 = [5,9;15,27]\n",
    "arr_t3 = [1,2,4,3;3,4,7,1;3,3,1,5;4,3,5,1]\n",
    "arr_t4 = [5,9,1,3;1,5,2,7;6,6,5,3;5,4,7,8]\n",
    "arr_t5 = [5,1,5;1,2,5;6,2,6]"
   ]
  },
  {
   "cell_type": "code",
   "execution_count": 2,
   "metadata": {},
   "outputs": [
    {
     "name": "stdout",
     "output_type": "stream",
     "text": [
      "ans =\n",
      "\n",
      "    6   11\n",
      "   18   31\n",
      "\n",
      "ans =\n",
      "\n",
      "   -4   -7\n",
      "  -12  -23\n",
      "\n",
      "ans =\n",
      "\n",
      "    35    63\n",
      "    75   135\n",
      "\n"
     ]
    }
   ],
   "source": [
    "arr_t1+arr_t2\n",
    "arr_t1-arr_t2\n",
    "arr_t1*arr_t2"
   ]
  },
  {
   "cell_type": "code",
   "execution_count": 3,
   "metadata": {},
   "outputs": [
    {
     "name": "stdout",
     "output_type": "stream",
     "text": [
      "ans =\n",
      "\n",
      "    6   11    5    6\n",
      "    4    9    9    8\n",
      "    9    9    6    8\n",
      "    9    7   12    9\n",
      "\n",
      "ans =\n",
      "\n",
      "  -4  -7   3   0\n",
      "   2  -1   5  -6\n",
      "  -3  -3  -4   2\n",
      "  -1  -1  -2  -7\n",
      "\n",
      "ans =\n",
      "\n",
      "   46   55   46   53\n",
      "   66   93   53   66\n",
      "   49   68   49   73\n",
      "   58   85   42   56\n",
      "\n"
     ]
    }
   ],
   "source": [
    "arr_t3+arr_t4\n",
    "arr_t3-arr_t4\n",
    "arr_t3*arr_t4"
   ]
  },
  {
   "cell_type": "code",
   "execution_count": 8,
   "metadata": {},
   "outputs": [
    {
     "name": "stdout",
     "output_type": "stream",
     "text": [
      "ans =\n",
      "\n",
      "   25   11   33\n",
      "\n"
     ]
    }
   ],
   "source": [
    "vec_test * arr_t5"
   ]
  },
  {
   "cell_type": "code",
   "execution_count": null,
   "metadata": {},
   "outputs": [],
   "source": []
  }
 ],
 "metadata": {
  "kernelspec": {
   "display_name": "Octave",
   "language": "octave",
   "name": "octave"
  },
  "language_info": {
   "file_extension": ".m",
   "help_links": [
    {
     "text": "GNU Octave",
     "url": "https://www.gnu.org/software/octave/support.html"
    },
    {
     "text": "Octave Kernel",
     "url": "https://github.com/Calysto/octave_kernel"
    },
    {
     "text": "MetaKernel Magics",
     "url": "https://github.com/calysto/metakernel/blob/master/metakernel/magics/README.md"
    }
   ],
   "mimetype": "text/x-octave",
   "name": "octave",
   "version": "4.2.2"
  }
 },
 "nbformat": 4,
 "nbformat_minor": 2
}
