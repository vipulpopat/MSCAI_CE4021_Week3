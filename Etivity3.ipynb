# Student Name: Eamon O'Gairbhith
# Student ID: 9638296

"""Example of 2 x 2 Matrices For Testing"""

#a = [[1, 2], [5, 6]]

#b = [[-1, 3], [-2, 6]]

"""Example of 4 x 4 Matrices For Testing provided by Abhi"""

a = [[2, 1, 5, 7], [6, -2, 0, 3], [3, 2, -4, 1], [9, 7, 2, 3]]

b = [[1, 0, 2, 1], [-2, 1, 5, 2], [3, -2, 6, 4], [2, 0, 1, -2]]


"""Function to check size of a matrix"""


def size_matrix(matrix):
    return [len(matrix), len(matrix[0])]

size_matrix(a)
print(size_matrix(a))
print(size_matrix(b))


"""Function to compare size of matrices"""


def matrix_dimensions_check(matrix_a, matrix_b):
    if size_matrix(a) != size_matrix(b):
        raise Exception("The matrices are of different dimensions")

matrix_dimensions_check(a, b)

"""A print command to present the data in a 'matrix' format"""

for r in range(len(a)):
    print("row: {} > {}".format(r, a[r]))


for r in range(len(b)):
    print("row: {} > {}".format(r, b[r]))


""" As per Abhi's advice, the original seperate add 
and subtract functions have been combined in to one."""


def add_sub_mat(a, b, fn_operator):

    # Matrix Dimension Check function added in as per Abhi's advice
    matrix_dimensions_check(a, b)

    mat_sum = []
    for r in range(len(a)):
        mat_sum_row = []
        for c in range(len(a[r])):
            temp_value = fn_operator(a[r][c], b[r][c])
            mat_sum_row.append(temp_value)
        mat_sum.append(mat_sum_row)
    return mat_sum


def mat_add(a, b):
    return a + b


def mat_sub(a, b):
    return a - b

add_sub_mat(a, b, mat_add)

add_sub_mat(a, b, mat_sub)


"""Function to perform multiplication. This methodology was taken from Vipul's 
solution. His method was a lot better than mine in both simplicity and 
functionality"""


def multiply_matrices(a, b):
    if (size_matrix(a) != size_matrix(b)) and (size_matrix(a)[1] != size_matrix(b)[0]):
        raise Exception("The matrices in question cannot be multiplied")
    result = []
    # iterate on row of the first matrix
    for i, mat_list in enumerate(a):
        internal_result = []
        for j in range(len(b[i])):
            # extracts columns from 2nd Matrix for multiplication
            multiplier = list(zip(*b))[j]
            internal_result.append((sum([x*y for x, y in zip(mat_list, multiplier)])))
        result.append(internal_result)
    return (result)

multiply_matrices(a, b)

