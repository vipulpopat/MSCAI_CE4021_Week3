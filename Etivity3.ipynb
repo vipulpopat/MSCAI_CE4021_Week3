{
 "cells": [
  {
   "cell_type": "markdown",
   "metadata": {},
   "source": [
    "#Student Name: Aidan Keeshan\n",
    "#Student ID:   18200117"
   ]
  },
  {
   "cell_type": "code",
   "execution_count": 31,
   "metadata": {},
   "outputs": [
    {
     "name": "stdout",
     "output_type": "stream",
     "text": [
      "[2, 4, 6]\n",
      "[0, 0, 0]\n",
      "[[6, 18], [11, 31]]\n",
      "[[-4, -12], [-7, -23]]\n",
      "[[35, 63], [75, 135]]\n"
     ]
    }
   ],
   "source": [
    "def array_dim(array):\n",
    "    if hasattr(array, \"__len__\"):\n",
    "        if hasattr(array[0], \"__len__\"):\n",
    "            dimension = [len(array),len(array[0])]\n",
    "        else:\n",
    "            dimension = [len(array),1]\n",
    "    else:\n",
    "         dimension = [1,1]\n",
    "    return dimension\n",
    "\n",
    "def array_create(array_dim,fill=0):\n",
    "    #if array_dim[1] > 1:\n",
    "    #    return_array = [fill]*array_dim[1]\n",
    "    #else:\n",
    "    #    return_array = fill\n",
    "    #return_array = [return_array]*array_dim[0]\n",
    "    if array_dim[1] > 1:\n",
    "        return  [ [ fill for i in range(array_dim[0]) ] for j in range(array_dim[1]) ]\n",
    "    else:\n",
    "        return  [ fill for i in range(array_dim[0]) ]\n",
    "def array_dim_match(a,b):\n",
    "    a_dim = array_dim(a)\n",
    "    b_dim = array_dim(b)\n",
    "    if a_dim[0] == b_dim[0] and a_dim[1] == b_dim[1]:\n",
    "        return True\n",
    "    else:\n",
    "        return False\n",
    "\n",
    "def array_sub_add(a,b,sign=1):\n",
    "    a_dim = array_dim(a)\n",
    "    if array_dim_match(a,b):\n",
    "        product_array = array_create(a_dim)\n",
    "        for i in range(a_dim[0]):\n",
    "            if a_dim[1] > 1:\n",
    "                for j in range(a_dim[1]):\n",
    "                    product_array[j][i] = (a[i][j]+sign*b[i][j])\n",
    "            else:\n",
    "                product_array[i] = a[i]+(sign*b[i])\n",
    "    else:\n",
    "        raise(\"Arrays Dimensions not matching\")\n",
    "    return product_array\n",
    "\n",
    "def array_multiply(a,b):\n",
    "    a_dim = array_dim(a)\n",
    "    b_dim = array_dim(b)\n",
    "    \n",
    "    if a_dim[1] == b_dim[0]:\n",
    "        return_array = array_create(b_dim)\n",
    "        for i in range(a_dim[0]):\n",
    "            for j in range(b_dim[1]):\n",
    "                for k in range(a_dim[0]):\n",
    "                    return_array[i][j] += a[i][k]*b[k][j] \n",
    "    return return_array\n",
    "\n",
    "\n",
    "\n",
    "vec_test = [1,2,3]\n",
    "print(array_sub_add(vec_test,vec_test))\n",
    "print(array_sub_add(vec_test,vec_test,-1))\n",
    "\n",
    "arr_t1 = [[1,2],[3,4]]\n",
    "arr_t2 = [[5,9],[15,27]]\n",
    "print(array_sub_add(arr_t1,arr_t2))\n",
    "print(array_sub_add(arr_t1,arr_t2,-1))\n",
    "print(array_multiply(arr_t1,arr_t2))"
   ]
  },
  {
   "cell_type": "code",
   "execution_count": null,
   "metadata": {},
   "outputs": [],
   "source": []
  },
  {
   "cell_type": "code",
   "execution_count": null,
   "metadata": {},
   "outputs": [],
   "source": []
  }
 ],
 "metadata": {
  "kernelspec": {
   "display_name": "Python 3",
   "language": "python",
   "name": "python3"
  },
  "language_info": {
   "codemirror_mode": {
    "name": "ipython",
    "version": 3
   },
   "file_extension": ".py",
   "mimetype": "text/x-python",
   "name": "python",
   "nbconvert_exporter": "python",
   "pygments_lexer": "ipython3",
   "version": "3.6.5"
  }
 },
 "nbformat": 4,
 "nbformat_minor": 2
}
