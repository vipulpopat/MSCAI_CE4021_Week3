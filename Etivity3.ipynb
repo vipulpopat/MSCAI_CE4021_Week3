{
 "cells": [
  {
   "cell_type": "markdown",
   "metadata": {},
   "source": [
    "#Student Name: Michel Danjou\n",
    "#Student ID: 18263461"
   ]
  },
  {
   "cell_type": "code",
   "execution_count": 50,
   "metadata": {},
   "outputs": [
    {
     "name": "stdout",
     "output_type": "stream",
     "text": [
      "==================== test matrix 1x1 ====================\n",
      "Matrix: 11\n",
      "Size  : (1, 1)\n",
      "==================== test matrix 3x1 ====================\n",
      "Matrix: [[11, 12, 13]]\n",
      "Size  : (3, 1)\n",
      "==================== test matrix 3x1 ====================\n",
      "Matrix: [[11, 12, 13], [21, 22, 23]]\n",
      "Size  : (3, 2)\n"
     ]
    }
   ],
   "source": [
    "def size(matrix):  \n",
    "    \n",
    "    if is_scalar(matrix):\n",
    "        return (1,1)\n",
    "\n",
    "    elif is_matrix(matrix):\n",
    "        columns = len(matrix[0])\n",
    "        rows = len(matrix)        \n",
    "        return (columns, len(matrix))\n",
    "    \n",
    "    else:\n",
    "        raise ValueError('The given matrix is not a list or a scalar. Matrix={}'.format(matrix))\n",
    "    \n",
    "\n",
    "def is_matrix(matrix):\n",
    "    return isinstance(matrix, list)\n",
    "             \n",
    "             \n",
    "def is_scalar(matrix):\n",
    "    return isinstance(matrix, (int, float))\n",
    "             \n",
    "             \n",
    "def generic_test_matrix_size(test_name, matrix, expected_size):\n",
    "    print_header(test_name)\n",
    "    result = size(matrix)\n",
    "    print(\"Matrix: {0}\".format(matrix))\n",
    "    print(\"Size  : {0}\".format(result))\n",
    "    assert( expected_size == result)\n",
    "    \n",
    "    \n",
    "def print_header(test_name):\n",
    "    print(\"=\"*20 + \" \" + test_name + \" \" + \"=\"*20)   \n",
    "    \n",
    "    \n",
    "def test_matrix_1_1():\n",
    "    matrix = 11\n",
    "    generic_test_matrix_size(\"test matrix 1x1\", matrix, (1,1))\n",
    "    \n",
    "    \n",
    "def test_matrix_3_1():\n",
    "    matrix = [[11,12,13]]\n",
    "    generic_test_matrix_size(\"test matrix 3x1\", matrix, (3,1))\n",
    "\n",
    "    \n",
    "def test_matrix_3_2():\n",
    "    matrix = [[11,12,13],[21,22,23]]\n",
    "    generic_test_matrix_size(\"test matrix 3x1\", matrix, (3,2))\n",
    "    \n",
    "    \n",
    "test_matrix_1_1()    \n",
    "test_matrix_3_1()\n",
    "test_matrix_3_2()"
   ]
  },
  {
   "cell_type": "code",
   "execution_count": null,
   "metadata": {},
   "outputs": [],
   "source": []
  }
 ],
 "metadata": {
  "kernelspec": {
   "display_name": "Python 3",
   "language": "python",
   "name": "python3"
  },
  "language_info": {
   "codemirror_mode": {
    "name": "ipython",
    "version": 3
   },
   "file_extension": ".py",
   "mimetype": "text/x-python",
   "name": "python",
   "nbconvert_exporter": "python",
   "pygments_lexer": "ipython3",
   "version": "3.6.5"
  }
 },
 "nbformat": 4,
 "nbformat_minor": 1
}
