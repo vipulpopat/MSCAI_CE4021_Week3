{
 "cells": [
  {
   "cell_type": "markdown",
   "metadata": {},
   "source": [
    "#Student Name: Martin Power\n",
    "#Student ID: 9939245"
   ]
  },
  {
   "cell_type": "markdown",
   "metadata": {},
   "source": [
    "Etivity3 : Vectors, Matrics and Tensors\n",
    "\n",
    "Provide Functions to:\n",
    "* Return the size of a matrix as a 2-dimensional tuple (matrix_size function)\n",
    "* Sum and subtract 2 matrices (matrix_add_sub function)\n",
    "* Multiply two matrices of suitable size (matrix_mul function)\n"
   ]
  },
  {
   "cell_type": "code",
   "execution_count": 2,
   "metadata": {
    "collapsed": false
   },
   "outputs": [
    {
     "name": "stderr",
     "output_type": "stream",
     "text": [
      "..\n",
      "----------------------------------------------------------------------\n",
      "Ran 2 tests in 0.011s\n",
      "\n",
      "OK\n"
     ]
    }
   ],
   "source": [
    "##################################################\n",
    "# Matrices\n",
    "##################################################\n",
    "a = [[-2,7],[9,4]]        # A: 2x2 Matrix \n",
    "b = [[4,8],[-6,1]]        # B: 2x2 Matrix\n",
    "c = [[8,2]]               # C: 1x2 Row Vector\n",
    "d = [[-3],[4]]            # D: 2x1 Column Vector\n",
    "\n",
    "##################################################\n",
    "# Functions\n",
    "##################################################\n",
    "\n",
    "def matrix_size (n):\n",
    "    \"\"\"Function that accepts a matrix in the form of a list of lists and returns a tuple indicating matrix size\n",
    "       Returns (Number of Rows, Number of Columns)\n",
    "    \"\"\"\n",
    "    nr = len(n)\n",
    "    nc = len(n[0])\n",
    "    return (nr,nc)\n",
    "\n",
    "def matrix_init (size):\n",
    "    \"\"\"Function to initialize a matrix. Size received as a tuple of the form (Number of Rows, Number of Columns)\n",
    "       Returns matrix in specified size as a list of lists   \n",
    "    \"\"\"\n",
    "    # Code taken from https://www.programiz.com/python-programming/matrix\n",
    "    nr, nc = size\n",
    "    n = [0]*nr\n",
    "    for i in range(nr):\n",
    "        n[i] = [0]*nc\n",
    "    return n\n",
    "\n",
    "def matrix_add_sub (n,m, op=\"add\"):\n",
    "    \"Function to add or substract two matrices. Operation is specified using 'op' string and defaults to addition\"\n",
    "    (nr,nc) = matrix_size(n)\n",
    "    \n",
    "    if(matrix_size(m))!=(nr,nc):\n",
    "        #print(\"\\n ERROR : Matrix Size Mismatch. Addition/Subtraction Not Possible\")\n",
    "        return \"ERROR\"\n",
    "    else:\n",
    "        result = matrix_init((nr,nc))\n",
    "        \n",
    "    for i in range(nr):\n",
    "        for j in range(nc):\n",
    "            if(op==\"sub\"):\n",
    "                result[i][j] = n[i][j]-m[i][j]\n",
    "            else:\n",
    "                result[i][j] = n[i][j]+m[i][j]\n",
    "    \n",
    "    return result\n",
    "\n",
    "def matrix_mul (n,m):\n",
    "    \"Function to multiply two matrices. If matrix dimensions prevent multiplication, ERROR is returned\"\n",
    "    (nr_n,nc_n) = matrix_size(n)\n",
    "    (nr_m,nc_m) = matrix_size(m)\n",
    "    \n",
    "    if(nc_n!=nr_m): # Number of Rows in Matrix N must equal Number of Columns in Matrix M\n",
    "        #print(\"\\n ERROR : Row/Column Size Mismatch. Multiplication Not Possible\")\n",
    "        return \"ERROR\"\n",
    "    else:\n",
    "        result = matrix_init((nr_n,nc_m))\n",
    "   \n",
    "    for i in range(nr_n):\n",
    "        for j in range(nc_m):\n",
    "            for k in range(nc_n): # NOTE: Could also have used nr_m as nc_n==nr_m\n",
    "                result[i][j]+= n[i][k]*m[k][j]\n",
    "    return result\n",
    "\n",
    "\n",
    "##################################################\n",
    "# Unit Test\n",
    "##################################################\n",
    "import unittest\n",
    "\n",
    "class TestEtivity3(unittest.TestCase):\n",
    "    # Test Matrix Addition and Subtraction\n",
    "    def test_001(self):\n",
    "        expected_result = [[2,15],[3,5]] # A+B\n",
    "        self.assertListEqual(matrix_add_sub(a,b), expected_result, \"A+B Mismatch\")\n",
    "        \n",
    "        expected_result = [[-6,-1],[15,3]] # A-B\n",
    "        self.assertListEqual(matrix_add_sub(a,b,\"sub\"), expected_result, \"A-B Mismatch\")\n",
    "        \n",
    "        expected_result = \"ERROR\" # A+C\n",
    "        self.assertEqual(matrix_add_sub(a,c), expected_result, \"A+C Mismatch\")\n",
    "\n",
    "    # Test Matrix Multiplication\n",
    "    def test_002(self):\n",
    "        expected_result = [[-50,-9],[12,76]] # A*B\n",
    "        self.assertListEqual(matrix_mul(a,b), expected_result, \"A*B Mismatch\")\n",
    "        \n",
    "        expected_result = [[64,60],[21,-38]] # B*A\n",
    "        self.assertListEqual(matrix_mul(b,a), expected_result, \"B*A Mismatch\")\n",
    "        \n",
    "        expected_result = [[2,64]] # C*A\n",
    "        self.assertListEqual(matrix_mul(c,a), expected_result, \"C*A Mismatch\")\n",
    "        \n",
    "        expected_result = [[34],[-11]] # A*D\n",
    "        self.assertListEqual(matrix_mul(a,d), expected_result, \"A*D Mismatch\")\n",
    "        \n",
    "        expected_result = [[-16]] # C*D\n",
    "        self.assertListEqual(matrix_mul(c,d), expected_result, \"C*D Mismatch\")\n",
    "\n",
    "        expected_result = [[-24,-6],[32,8]] # D*C\n",
    "        self.assertListEqual(matrix_mul(d,c), expected_result, \"D*C Mismatch\")\n",
    "        \n",
    "        expected_result = \"ERROR\" # A*C\n",
    "        self.assertEqual(matrix_mul(a,c), expected_result, \"A*C Mismatch\")\n",
    "        \n",
    "if __name__ == '__main__':\n",
    "    unittest.main(argv=['first-arg-is-ignored'], exit=False)\n",
    "    \n"
   ]
  },
  {
   "cell_type": "code",
   "execution_count": null,
   "metadata": {
    "collapsed": true
   },
   "outputs": [],
   "source": []
  }
 ],
 "metadata": {
  "kernelspec": {
   "display_name": "Python 3.6",
   "language": "python",
   "name": "python3.6"
  },
  "language_info": {
   "codemirror_mode": {
    "name": "ipython",
    "version": 3
   },
   "file_extension": ".py",
   "mimetype": "text/x-python",
   "name": "python",
   "nbconvert_exporter": "python",
   "pygments_lexer": "ipython3",
   "version": "3.6.6"
  }
 },
 "nbformat": 4,
 "nbformat_minor": 0
}
