"""Student Name: Eamon O'Gairbhith"""
""" Student ID: 9638296"""

a = [[1, 2, 3, 4], [5, 6, 7, 8], [9, 10, 11, 12], [13, 14, 15, 16]]

b = [[2, 4, 6, 8], [1, 3, 5, 7], [3, 6, 9, 12], [5, 10, 15, 20]]

def size_matrix(matrix):
     return [len(matrix), len(matrix[0])]

size_matrix(a)
print(size_matrix(a))
print(size_matrix(b))

def matrix_dimensions_check(matrix_a, matrix_b):
    if size_matrix(a) != size_matrix(b) :
        raise Exception("The matrices are of different dimensions")
        
matrix_dimensions_check(a, b)

for r in range(len(a)):
    print("row: {} > {}".format(r, a[r]))
    
for r in range(len(b)):
    print("row: {} > {}".format(r, b[r]))
    
mat_sum = []
for r in range(len(a)):
    mat_sum_row = []
    for c in range(len(a[r])):
        a_sum_b = a[r][c] + b[r][c]
        mat_sum_row.append(a_sum_b)
        #print("{}".format(a_sum_b))
    mat_sum.append(mat_sum_row)
    #print(mat_sum)
print(mat_sum)

for r in range(len(mat_sum)):
    print("row: {} > {}".format(r, mat_sum[r]))
    

def add_mat(a, b):
    mat_sum = []
    for r in range(len(a)):
        mat_sum_row = []
        for c in range(len(a[r])):
            a_sum_b = a[r][c] + b[r][c]
            mat_sum_row.append(a_sum_b)
        mat_sum.append(mat_sum_row)
    return (mat_sum)   
    
a_plus_b = add_mat(a,b)
a_plus_b

def sub_mat(a, b):
    mat_sub = []
    for r in range(len(a)):
        mat_sub_row = []
        for c in range(len(a[r])):
            a_sub_b = a[r][c] - b[r][c]
            mat_sub_row.append(a_sub_b)
        mat_sub.append(mat_sub_row)
    return (mat_sub)   
    
a_minus_b = sub_mat(a, b)
a_minus_b
    
    