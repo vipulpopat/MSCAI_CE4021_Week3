a = [[2, 2], [3, 4]]

b = [[0, 3], [1, 10]]

'''Function to caclulate the size of a matrix with the output as (a, b) where 
a = number of rows in the matrix
b = number of columns in the matrix'''
def size(matrix):
    row = len(matrix)
    col = len(matrix[0])
    return (row, col)
    
size(a)
size(b)

'''Function to caclulate the sum of two 2x2 matrices'''
def matrix_sum(matrix_a,matrix_b):
    a_sum = (a[0][0] + b[0][0])
    b_sum = (a[0][1] + b[0][1])
    c_sum = (a[1][0] + b[1][0])
    d_sum = (a[1][1] + b[1][1])
    return [[a_sum, b_sum], [c_sum, d_sum]]

matrix_sum(a,b)

'''Function to subtract two 2x2 matrices'''
def matrix_sub(matrix_a,matrix_b):
    a_sub = (a[0][0] - b[0][0])
    b_sub = (a[0][1] - b[0][1])
    c_sub = (a[1][0] - b[1][0])
    d_sub = (a[1][1] - b[1][1])
    return [[a_sub, b_sub], [c_sub, d_sub]]
    
matrix_sub(a,b)

'''Function to multiply two 2x2 matrices'''
def matrix_mult(matrix_a,matrix_b):
    a_mult = ((a[0][0])*(b[0][0])) + ((a[0][1])*(b[1][0]))
    b_mult = ((a[0][0])*(b[0][1])) + ((a[0][1])*(b[1][1]))
    c_mult = ((a[1][0])*(b[0][0])) + ((a[1][1])*(b[1][0]))
    d_mult = ((a[1][0])*(b[0][1])) + ((a[1][1])*(b[1][1]))
    return [[a_mult, b_mult], [c_mult, d_mult]]
    
matrix_mult(a,b)

