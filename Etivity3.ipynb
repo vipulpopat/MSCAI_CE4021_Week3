{
 "cells": [
  {
   "cell_type": "markdown",
   "metadata": {},
   "source": [
    "#Student Name:Ganapathy\n",
    "#Student ID:18202799"
   ]
  }
 ],
 "metadata": {
  "kernelspec": {
   "display_name": "Python 3.6",
   "language": "python",
   "name": "python3.6"
  },
  "language_info": {
   "codemirror_mode": {
    "name": "ipython",
    "version": 3
   },
   "file_extension": ".py",
   "mimetype": "text/x-python",
   "name": "python",
   "nbconvert_exporter": "python",
   "pygments_lexer": "ipython3",
   "version": "3.6.0"
  }
 },
 "nbformat": 4,
 "nbformat_minor": 0
}


def check_size(a):
    rows = len(a)
    columns = len(a[0])
    return (rows , columns)

def addition(Matrix_A,Matrix_B):
    if check_size(Matrix_A) == check_size(Matrix_B):
        check = check_size(Matrix_A)
        countrow = check[0]
        countcolumn = check[1]
        rowlist=[]
        if (countrow == 2 and countcolumn == 2):
            for x in range(countrow):
                collist=[]
                for y in range(countcolumn):
                    Matrix_Add = Matrix_A[x][y] + Matrix_B[x][y]
                    collist.append(Matrix_Add)
                rowlist.append(collist)
            return rowlist

def subtraction(Matrix_A,Matrix_B):
    if check_size(Matrix_A) == check_size(Matrix_B):
        check = check_size(Matrix_A)
        countrow = check[0]
        countcolumn = check[1]
        rowlist=[]
        if (countrow == 2 and countcolumn == 2):
            for x in range(countrow):
                collist=[]
                for y in range(countcolumn):
                    Matrix_Sub = Matrix_A[x][y] - Matrix_B[x][y]
                    collist.append(Matrix_Sub)
                rowlist.append(collist)
            return rowlist

def multiplication(Matrix_A,Matrix_B):
    if check_size(Matrix_A) == check_size(Matrix_B):
        check = check_size(Matrix_A)
        countrow = check[0]
        countcolumn = check[1]
        Matrix_Mul = [[sum(a*b for a,b in zip(Matrix_A_row,Matrix_B_col)) for Matrix_B_col in zip(*Matrix_B)] for Matrix_A_row in Matrix_A]
        return Matrix_Mul
        


MatrixA = [[5, 6], [7, 8]]
MatrixB = [[9, 10], [11, 12]]
MatrixAdd = addition(MatrixA , MatrixB)
print(MatrixAdd)

MatrixSub = subtraction(MatrixA , MatrixB)
print(MatrixSub)

MatrixMultiply = multiplication(MatrixA , MatrixB)
print(MatrixMultiply)

