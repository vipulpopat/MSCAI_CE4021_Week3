{
 "cells": [
  {
   "cell_type": "markdown",
   "metadata": {},
   "source": [
    "#Student Name: Abhijit Sinha\n",
    "#Student ID: 18195067"
   ]
  },
  {
   "cell_type": "markdown",
   "metadata": {
    "collapsed": true
   },
   "source": [
    "###### Problem Statement:\n",
    "\n",
    "Write Python functions for the following operations on matrices without making use of imported modules:\n",
    "\n",
    "1. Providing the size of a matrix as a 2-dimensional tuple\n",
    "2. Summing and subtracting two matrices\n",
    "3. Multiplying two matrices or a vector and a matrix of suitable size\n",
    "\n",
    "Proposed Solution:\n",
    "1. Added implementation of addition, subtraction and multiplication of two 2x2 matrices\n",
    "2. Added a function to calculate the shape of a given matrix\n",
    "3. Added a function to check the dimension of matrices before operation\n",
    "4. Tested the code with two 2x2 matrix and 4x4 matrix\n",
    "5. Added test for 3x3 matrix and 1x3 column vector\n",
    "\n",
    "Reflection:\n",
    "1. Re-factored code to perform addition and subtraction in same function\n",
    "2. Improved the check dimension function for all matrix operations: addition, subtraction and multiplication\n",
    "3. Converted the matrices from list to tuples"
   ]
  },
  {
   "cell_type": "code",
   "execution_count": 48,
   "metadata": {
    "collapsed": false
   },
   "outputs": [],
   "source": [
    "def shape_matrix(matrix):\n",
    "    \"\"\"\n",
    "    The number of rows of a matrix A (i.e. list of lists) would be: len(A)\n",
    "    and the number of columns len(A[0])\n",
    "    \"\"\"\n",
    "\n",
    "    rows = len(matrix)\n",
    "    columns = len(matrix[0])\n",
    "    return rows, columns\n",
    "\n",
    "\n",
    "def check_matrix_dimension(matrix_a, matrix_b, fn_op):\n",
    "    \"\"\"\n",
    "    To perform matrix addition and subtraction, two matrices must have the same dimensions\n",
    "    For matrix multiplication first matrix must have the same number of columns\n",
    "    as the second matrix has rows\n",
    "    \"\"\"\n",
    "\n",
    "    if (fn_op == \"add_sub\") and shape_matrix(matrix_a) != shape_matrix(matrix_b):\n",
    "        raise ValueError(\"Matrix shape is not suitable for this Addition and Subtraction\")\n",
    "\n",
    "    if (fn_op == \"multiply\") and shape_matrix(matrix_a)[1] != shape_matrix(matrix_b)[0]:\n",
    "        raise ValueError(\"Columns of matrix a != Rows of matrix b\")\n",
    "\n",
    "\n",
    "def func_add(mat1, mat2):\n",
    "    return mat1 + mat2\n",
    "\n",
    "\n",
    "def func_subtract(mat1, mat2):\n",
    "    return mat1 - mat2\n",
    "\n",
    "\n",
    "def matrix_add_or_sub(matrix_1, matrix_2, func_operation):\n",
    "    \"\"\"\n",
    "    Function to add or subtract two matrices\n",
    "\n",
    "    :param matrix_1:\n",
    "    :param matrix_2:\n",
    "    :param func_operation: can be \"add\" or \"subtract\"\n",
    "    :return:\n",
    "    \"\"\"\n",
    "\n",
    "    check_matrix_dimension(matrix_1, matrix_2, \"add_sub\")\n",
    "    row_num, col_num = shape_matrix(matrix_1)\n",
    "\n",
    "    matrix_add_subtract = []\n",
    "    # iterate through rows\n",
    "    for row_idx in range(row_num):\n",
    "        new_column = []\n",
    "        # iterate through columns\n",
    "        for col_idx in range(col_num):\n",
    "            # Perform addition or subtraction based on the function operation\n",
    "            temp_val = func_operation(matrix_1[row_idx][col_idx], matrix_2[row_idx][col_idx])\n",
    "            new_column.append(temp_val)\n",
    "        matrix_add_subtract.append(new_column)\n",
    "    return list(matrix_add_subtract)\n",
    "\n",
    "\n",
    "def matrix_multiplication(matrix_1, matrix_2):\n",
    "    \"\"\" Function to perform matrix multiplication \"\"\"\n",
    "\n",
    "    # Check if the matrix dimensions is suitable for multiplication\n",
    "    check_matrix_dimension(matrix_1, matrix_2, \"multiply\")\n",
    "\n",
    "    product = []\n",
    "    # i will run through each row of matrix_1\n",
    "    for i in range(len(matrix_1)):\n",
    "        matrix_i = []\n",
    "        # j will run through each column of matrix_2\n",
    "        for j in range(len(matrix_2[0])):\n",
    "            matrix_jk = 0\n",
    "            # k will run through each row of matrix_2\n",
    "            for k in range(len(matrix_2)):\n",
    "                matrix_jk += matrix_1[i][k] * matrix_2[k][j]\n",
    "            matrix_i.append(matrix_jk)\n",
    "        product.append(matrix_i)\n",
    "    return list(product)"
   ]
  },
  {
   "cell_type": "code",
   "execution_count": 49,
   "metadata": {
    "collapsed": true
   },
   "outputs": [],
   "source": [
    "# Test Matrix definition in tuples format\n",
    "\n",
    "# 2x2 matrices\n",
    "mat_a_2x2 = ((1, 4), (5, -2))\n",
    "mat_b_2x2 = ((-2, 6), (0, 3))\n",
    "\n",
    "# 4x4 matrices\n",
    "mat_a_4x4 = ((6, 3, -1, 2),\n",
    "             (7, 4, 0, 3),\n",
    "             (-2, 9, 0, 4),\n",
    "             (-5, 2, 7, 1))\n",
    "mat_b_4x4 = ((1, 2, 3, 8),\n",
    "             (1, 5, 9, -8),\n",
    "             (0, -6, 2, 8),\n",
    "             (0, -6, 1, -8))\n",
    "\n",
    "# 3x3 matrix\n",
    "mat_a_3x3 = ((6, 1, 8),\n",
    "             (3, 2, -4),\n",
    "             (9, -5, 7))\n",
    "\n",
    "# 3x1 column vector\n",
    "mat_b_3x1 = ((2,), (-2,), (4,))"
   ]
  },
  {
   "cell_type": "code",
   "execution_count": 50,
   "metadata": {
    "collapsed": false
   },
   "outputs": [
    {
     "name": "stdout",
     "output_type": "stream",
     "text": [
      "The result of mat_a_2x2 + mat_b_2x2 = [[-1, 10], [5, 1]]\n",
      "The result of mat_a_2x2 - mat_b_2x2 = [[3, -2], [5, -5]]\n",
      "The result of mat_a_2x2 * mat_b_2x2 = [[-2, 18], [-10, 24]]\n",
      "The result of mat_a_4x4 + mat_b_4x4 = [[7, 5, 2, 10], [8, 9, 9, -5], [-2, 3, 2, 12], [-5, -4, 8, -7]]\n",
      "The result of mat_a_4x4 - mat_b_4x4 = [[5, 1, -4, -6], [6, -1, -9, 11], [-2, 15, -2, -4], [-5, 8, 6, 9]]\n",
      "The result of mat_a_4x4 * mat_b_4x4 = [[9, 21, 45, 0], [11, 16, 60, 0], [7, 17, 79, -120], [-3, -48, 18, -8]]\n",
      "The result of mat_a_3x3 * mat_b_3x1 = [[42], [-14], [56]]\n"
     ]
    }
   ],
   "source": [
    "# Test cases for 2x2 matrix operations\n",
    "print(\"The result of mat_a_2x2 + mat_b_2x2 = {}\".format(\n",
    "    matrix_add_or_sub(mat_a_2x2, mat_b_2x2, func_add)))\n",
    "print(\"The result of mat_a_2x2 - mat_b_2x2 = {}\".format(\n",
    "    matrix_add_or_sub(mat_a_2x2, mat_b_2x2, func_subtract)))\n",
    "print(\"The result of mat_a_2x2 * mat_b_2x2 = {}\".format(\n",
    "    matrix_multiplication(mat_a_2x2, mat_b_2x2)))\n",
    "\n",
    "\n",
    "# Test cases for 4x4 matrix operations\n",
    "print(\"The result of mat_a_4x4 + mat_b_4x4 = {}\".format(\n",
    "    matrix_add_or_sub(mat_a_4x4, mat_b_4x4, func_add)))\n",
    "print(\"The result of mat_a_4x4 - mat_b_4x4 = {}\".format(\n",
    "    matrix_add_or_sub(mat_a_4x4, mat_b_4x4, func_subtract)))\n",
    "print(\"The result of mat_a_4x4 * mat_b_4x4 = {}\".format(\n",
    "    matrix_multiplication(mat_a_4x4, mat_b_4x4)))\n",
    "\n",
    "\n",
    "# Matrix multiplication : 3x3 matrix and 3x1 column vector\n",
    "print(\"The result of mat_a_3x3 * mat_b_3x1 = {}\".format(\n",
    "    matrix_multiplication(mat_a_3x3, mat_b_3x1)))"
   ]
  },
  {
   "cell_type": "code",
   "execution_count": null,
   "metadata": {
    "collapsed": true
   },
   "outputs": [],
   "source": []
  }
 ],
 "metadata": {
  "kernelspec": {
   "display_name": "Python 3.6",
   "language": "python",
   "name": "python3.6"
  },
  "language_info": {
   "codemirror_mode": {
    "name": "ipython",
    "version": 3
   },
   "file_extension": ".py",
   "mimetype": "text/x-python",
   "name": "python",
   "nbconvert_exporter": "python",
   "pygments_lexer": "ipython3",
   "version": "3.6.6"
  }
 },
 "nbformat": 4,
 "nbformat_minor": 0
}
