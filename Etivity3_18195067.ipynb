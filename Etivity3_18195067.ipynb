{
 "cells": [
  {
   "cell_type": "markdown",
   "metadata": {},
   "source": [
    "#Student Name: Abhijit Sinha\n",
    "#Student ID: 18195067"
   ]
  },
  {
   "cell_type": "markdown",
   "metadata": {
    "collapsed": true
   },
   "source": [
    "###### Problem Statement:\n",
    "\n",
    "Write Python functions for the following operations on matrices without making use of imported modules:\n",
    "\n",
    "1. Providing the size of a matrix as a 2-dimensional tuple\n",
    "2. Summing and subtracting two matrices\n",
    "3. Multiplying two matrices or a vector and a matrix of suitable size\n",
    "\n",
    "Proposed Solution:\n",
    "1. Added implementation of addition, subtraction and multiplication of two 2x2 matrices\n",
    "2. Added a function to calculate the shape of a given matrix\n",
    "3. Added a function to check the dimension of matrices for addition and subtraction\n",
    "4. Tested the code with two 2x2 matrix\n",
    "\n",
    "ToDo:\n",
    "- Test code with matrices of higher dimension\n",
    "- Clean up the code and add comments where needed\n",
    "- Make code more readable by proper print messages\n",
    "- Look for alternative approaches"
   ]
  },
  {
   "cell_type": "code",
   "execution_count": 12,
   "metadata": {
    "collapsed": false
   },
   "outputs": [],
   "source": [
    "def shape_matrix(matrix):\n",
    "    \"\"\"The number of rows of a matrix A (i.e. list of lists) would be: len(A) and the number of columns len(A[0])\"\"\"\n",
    "\n",
    "    rows = len(matrix)\n",
    "    columns = len(matrix[0])  # if rows > 0 else 0\n",
    "    return rows, columns\n",
    "\n",
    "\n",
    "def check_dimension(matrix_a, matrix_b):\n",
    "    \"\"\"\n",
    "    To perform matrix addition and subtraction, two matrices must have the same dimensions\n",
    "    i.e. same number of rows and columns\n",
    "    \"\"\"\n",
    "    \n",
    "    if shape_matrix(matrix_a) == shape_matrix(matrix_b):\n",
    "        return True\n",
    "    else:\n",
    "        raise ValueError(\"Matrix shape is not suitable for this operation\")\n",
    "\n",
    "\n",
    "def add_matrices(matrix_1, matrix_2):\n",
    "\n",
    "    check_dimension(matrix_1, matrix_2)\n",
    "    row, column = shape_matrix(matrix_1)\n",
    "\n",
    "    matrix_sum = []\n",
    "    # iterate through rows\n",
    "    for row_idx in range(row):\n",
    "        new_column = []\n",
    "        # iterate through columns\n",
    "        for col_idx in range(column):\n",
    "            temp_val = matrix_1[row_idx][col_idx] + matrix_2[row_idx][col_idx]\n",
    "            new_column.append(temp_val)\n",
    "        matrix_sum.append(new_column)\n",
    "    return matrix_sum\n",
    "\n",
    "\n",
    "def subtract_matrices(matrix_1, matrix_2):\n",
    "\n",
    "    check_dimension(matrix_1, matrix_2)\n",
    "    row, column = shape_matrix(matrix_1)\n",
    "\n",
    "    matrix_sub = []\n",
    "    # iterate through rows\n",
    "    for row_idx in range(row):\n",
    "        new_column = []\n",
    "        # iterate through columns\n",
    "        for col_idx in range(column):\n",
    "            temp_val = matrix_1[row_idx][col_idx] - matrix_2[row_idx][col_idx]\n",
    "            new_column.append(temp_val)\n",
    "        matrix_sub.append(new_column)\n",
    "    return matrix_sub\n",
    "\n",
    "\n",
    "def multiply_matrices(matrix_1, matrix_2):\n",
    "    \"\"\"\n",
    "    To perform matrix multiplication, the first matrix must have the\n",
    "    same number of columns as the second matrix has rows\n",
    "    \"\"\"\n",
    "\n",
    "    if shape_matrix(matrix_1)[1] != shape_matrix(matrix_2)[0]:\n",
    "        raise ValueError(\n",
    "            'Columns of matrix a != Rows of matrix b')\n",
    "\n",
    "    product = []\n",
    "    # i will run through each row of matrix_1\n",
    "    for i in range(len(matrix_1)):\n",
    "        matrix_i = []\n",
    "        # j will run through each column of matrix_2\n",
    "        for j in range(len(matrix_2[0])):\n",
    "            matrix_jk = 0\n",
    "            # k will run through each row of matrix_2\n",
    "            for k in range(len(matrix_2)):\n",
    "                matrix_jk += matrix_1[i][k] * matrix_2[k][j]\n",
    "            matrix_i.append(matrix_jk)\n",
    "        product.append(matrix_i)\n",
    "    return product\n"
   ]
  },
  {
   "cell_type": "code",
   "execution_count": 13,
   "metadata": {
    "collapsed": true
   },
   "outputs": [],
   "source": [
    "mat_a = [[1, 4], [5, -2]]\n",
    "mat_b = [[-2, 6], [0, 3]]"
   ]
  },
  {
   "cell_type": "code",
   "execution_count": 14,
   "metadata": {
    "collapsed": false
   },
   "outputs": [
    {
     "name": "stdout",
     "output_type": "stream",
     "text": [
      "[[-1, 10], [5, 1]]\n",
      "[[3, -2], [5, -5]]\n",
      "[[-2, 18], [-10, 24]]\n"
     ]
    }
   ],
   "source": [
    "print(add_matrices(mat_a, mat_b))\n",
    "print(subtract_matrices(mat_a, mat_b))\n",
    "print(multiply_matrices(mat_a, mat_b))"
   ]
  },
  {
   "cell_type": "code",
   "execution_count": null,
   "metadata": {
    "collapsed": true
   },
   "outputs": [],
   "source": []
  }
 ],
 "metadata": {
  "kernelspec": {
   "display_name": "Python 3.6",
   "language": "python",
   "name": "python3.6"
  },
  "language_info": {
   "codemirror_mode": {
    "name": "ipython",
    "version": 3
   },
   "file_extension": ".py",
   "mimetype": "text/x-python",
   "name": "python",
   "nbconvert_exporter": "python",
   "pygments_lexer": "ipython3",
   "version": "3.6.6"
  }
 },
 "nbformat": 4,
 "nbformat_minor": 0
}
