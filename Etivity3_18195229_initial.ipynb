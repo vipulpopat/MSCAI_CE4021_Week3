{
 "cells": [
  {
   "cell_type": "markdown",
   "metadata": {},
   "source": [
    "Student: Gerard Kerley\n",
    "ID: 18195229"
   ]
  },
  {
   "cell_type": "code",
   "execution_count": 53,
   "metadata": {},
   "outputs": [],
   "source": [
    "# TODO: Description\n",
    "# check if 2 matrices are same shape\n",
    "# merge addition and subtraction functions\n",
    "result = [[0,0],[0,0]]\n",
    "\n",
    "def sum_matrices(matrix1, matrix2):\n",
    "    \"\"\"TODO: docstring\n",
    "    \"\"\"    \n",
    "    for i in range(len(matrix1)):\n",
    "        for j in range(len(matrix1[0])):\n",
    "            result[i][j] =  matrix1[i][j] + matrix2[i][j]\n",
    "    return result\n",
    "\n",
    "\n",
    "def subtract_matrices(matrix1, matrix2):\n",
    "    \"\"\"TODO: docstring\n",
    "    \"\"\"\n",
    "    for i in range(len(matrix1)):\n",
    "        for j in range(len(matrix1[0])):\n",
    "            result[i][j] =  matrix1[i][j] - matrix2[i][j]\n",
    "    return result\n",
    "\n",
    "\n",
    "def multiply_matrix_by_matrix_or_vector(matrix, matrix_or_vector):\n",
    "    \"\"\"TODO: docstring\n",
    "    \"\"\"\n",
    "    product = [[0,0],[0,0]]\n",
    "    for i in range(len(matrix)):\n",
    "        for j in range(len(matrix_or_vector[0])):\n",
    "            for k in range(len(matrix_or_vector)):\n",
    "                product[i][j] += matrix[i][k] * matrix_or_vector[k][j]\n",
    "    return product\n"
   ]
  },
  {
   "cell_type": "code",
   "execution_count": 54,
   "metadata": {},
   "outputs": [
    {
     "name": "stdout",
     "output_type": "stream",
     "text": [
      "[[8, 10], [12, 14]]\n",
      "[[-4, -4], [-4, -4]]\n",
      "[[36, 41], [64, 73]]\n"
     ]
    }
   ],
   "source": [
    "# TESTS\n",
    "m1 = [[2,3],\n",
    "      [4,5]]\n",
    "m2 = [[6,7],\n",
    "      [8,9]]\n",
    "v1 = [4,7]\n",
    "\n",
    "print(sum_matrices(m1, m2))\n",
    "print(subtract_matrices(m1, m2))\n",
    "print(multiply_matrix_by_matrix_or_vector(m1, m2))\n",
    "#print(multiply_matrix_by_matrix_or_vector(m1, v1))"
   ]
  },
  {
   "cell_type": "code",
   "execution_count": null,
   "metadata": {},
   "outputs": [],
   "source": []
  }
 ],
 "metadata": {
  "kernelspec": {
   "display_name": "Python 3",
   "language": "python",
   "name": "python3"
  },
  "language_info": {
   "codemirror_mode": {
    "name": "ipython",
    "version": 3
   },
   "file_extension": ".py",
   "mimetype": "text/x-python",
   "name": "python",
   "nbconvert_exporter": "python",
   "pygments_lexer": "ipython3",
   "version": "3.6.6"
  }
 },
 "nbformat": 4,
 "nbformat_minor": 2
}
