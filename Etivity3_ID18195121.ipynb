{
 "cells": [
  {
   "cell_type": "markdown",
   "metadata": {},
   "source": [
    "#Student Name: Vipul Popat\n",
    "#Student ID: 18195121\n",
    "\n",
    "**Methodology**\n",
    "It was very easy to write code and Junit tests together to follow a TDD and I would follow the same thing again.\n",
    "Matrices will be represented as a tuple of tuples:\n",
    "- Matrices are valid i.e. each tuple entry represents a row, and each row will have the same number of elements\n",
    "- There is a validator method to check the correct size of the matrices\n"
   ]
  },
  {
   "cell_type": "code",
   "execution_count": 1,
   "metadata": {
    "collapsed": false
   },
   "outputs": [
    {
     "name": "stderr",
     "output_type": "stream",
     "text": [
      "......."
     ]
    },
    {
     "name": "stdout",
     "output_type": "stream",
     "text": [
      "(2, 3)\n",
      "The row column combination for two matrices are not as required\n",
      "The matrix dimensions are not equal\n",
      "(2, 2)\n",
      "((3, 8), (10, 7))\n",
      "((1, -2), (-2, 3))\n",
      "((20, 16), (34, 30))\n",
      "((37,), (19,), (14,), (11,))\n"
     ]
    },
    {
     "name": "stderr",
     "output_type": "stream",
     "text": [
      "\n",
      "----------------------------------------------------------------------\n",
      "Ran 7 tests in 0.010s\n",
      "\n",
      "OK\n"
     ]
    }
   ],
   "source": [
    "\"\"\"\n",
    "This method calculates the size of the matrix in terms of number of rows to\n",
    "number of columns (r,c) where r = rows and c = columns\n",
    "\"\"\"\n",
    "def matrix_size(matrix) :\n",
    "    return len(matrix), len(matrix[0])\n",
    "\n",
    "\"\"\"\n",
    "This method performs the operation on the two matrices\n",
    "op is the operation passed which can be sum or substract\n",
    "\"\"\"\n",
    "def perform_matrix_operation(matrix1, matrix2, op) :\n",
    "    result = []\n",
    "    for i, plist in enumerate(matrix1) :\n",
    "        result.append(tuple(map(op, zip(matrix1[i], matrix2[i]))))\n",
    "    return tuple(result)\n",
    "\n",
    "\"\"\"\n",
    "This method compares whether the matrics passed to the function are of equal\n",
    "dimensions i.e. the same number of rows and columns\n",
    "\"\"\"\n",
    "def check_matrix_equal_dimensions(matrix1, matrix2):\n",
    "    if matrix_size(matrix1) != matrix_size(matrix2) :\n",
    "        raise Exception(\"The matrix dimensions are not equal\")\n",
    "\n",
    "\"\"\"\n",
    "This method adds both the matrices provided the dimensions of both the\n",
    "matrices are equal\n",
    "\"\"\"\n",
    "def add_matrices(matrix1, matrix2) :\n",
    "    check_matrix_equal_dimensions(matrix1, matrix2)\n",
    "    return perform_matrix_operation(matrix1, matrix2, lambda x : x[0]+x[1])\n",
    "\n",
    "\"\"\"\n",
    "This method substracts the second matrix from the first provided the dimensions\n",
    "of both the matrices are equal\n",
    "\"\"\"\n",
    "def substract_matrices(matrix1, matrix2) :\n",
    "    check_matrix_equal_dimensions(matrix1, matrix2)\n",
    "    return perform_matrix_operation(matrix1, matrix2, lambda x : x[0]-x[1])\n",
    "\n",
    "\"\"\"\n",
    "This method multiplies the matrices of two dimensions (r1,c1) & (r2,c2) where\n",
    "r1 = c2\n",
    "\"\"\"\n",
    "def multiply_matrices(matrix1, matrix2) :\n",
    "    if (matrix_size(matrix1) != matrix_size(matrix2)) and (matrix_size(matrix1)[1] != matrix_size(matrix2)[0]) :\n",
    "        raise Exception(\"The row column combination for two matrices are not as required\")\n",
    "    result = []\n",
    "    # iterate on row of the first matrix\n",
    "    for i, plist in enumerate(matrix1) :\n",
    "        internal_result = []\n",
    "        for j in range(len(matrix2[i])) :\n",
    "            # get the vertical column of the second matrix\n",
    "            multiplier = list(zip(*matrix2))[j]\n",
    "            internal_result.append((sum([a*b for a,b in zip(plist,multiplier)])))\n",
    "        result.append(tuple(internal_result))\n",
    "    return tuple(result)\n",
    "\n",
    "import unittest\n",
    "\n",
    "class TestEtivity3(unittest.TestCase):\n",
    "\n",
    "    def test_matrix_size(self):\n",
    "        input = (1,2,3), (4,5,6)\n",
    "        expected_result = (2,3)\n",
    "        output = matrix_size(input)\n",
    "        print(output)\n",
    "        assert(expected_result == output)\n",
    "\n",
    "    def test_check_matrix_dimensions(self):\n",
    "        m1 = (1,2,3), (4,5,6)\n",
    "        m2 = (3,1,2), (9,7,8)\n",
    "        check_matrix_equal_dimensions(m1, m2)\n",
    "\n",
    "    def test_unequal_check_matrix_dimensions(self):\n",
    "        m1 = (1,2,3,4), (4,5,6,8)\n",
    "        m2 = (3,1,2), (9,7,8)\n",
    "        try :\n",
    "            check_matrix_equal_dimensions(m1, m2)\n",
    "        except Exception as exception:\n",
    "            print(str(exception))\n",
    "            assert True\n",
    "\n",
    "    def test_add_matrix(self):\n",
    "        m1 = (1,2,3), (4,5,6)\n",
    "        m2 = (3,1,2), (9,7,8)\n",
    "        result = add_matrices(m1, m2)\n",
    "        assert(result == ((4,3,5),(13,12,14)))\n",
    "\n",
    "    def test_substract_matrix(self):\n",
    "        m1 = (1,2,3), (4,5,6)\n",
    "        m2 = (3,1,2), (9,7,8)\n",
    "        result = substract_matrices(m1, m2)\n",
    "        assert(result == ((-2,1,1),(-5,-2,-2)))\n",
    "\n",
    "    def test_multiply_matrix_of_wrong_dimensions(self):\n",
    "        m1 = ((1,2,3), (4,5,6))\n",
    "        m2 = ((3,1,2,4), (9,7,8,10))\n",
    "        try :\n",
    "            multiply_matrices(m1, m2)\n",
    "        except Exception as exception:\n",
    "            print(str(exception))\n",
    "            assert True\n",
    "\n",
    "    def test_multiply_matrix(self):\n",
    "        m1 = ((3,-9,-8), (2,4,3))\n",
    "        m2 = ((7,-3),(-2,3),(6,2))\n",
    "        result = multiply_matrices(m1, m2)\n",
    "        assert(result == ((-9,-52),(24,12)))\n",
    "\n",
    "\n",
    "if __name__ == '__main__':\n",
    "    unittest.main(argv=['first-arg-is-ignored'], exit=False)\n",
    "\n",
    "\n",
    "\n",
    "matrix_2_by_2_first = ((2,3),(4,5))\n",
    "matrix_2_by_2_second = ((1,5)),((6,2))\n",
    "\n",
    "print(matrix_size(matrix_2_by_2_first))\n",
    "print(add_matrices(matrix_2_by_2_first, matrix_2_by_2_second))\n",
    "print(substract_matrices(matrix_2_by_2_first, matrix_2_by_2_second))\n",
    "print(multiply_matrices(matrix_2_by_2_first, matrix_2_by_2_second))\n",
    "print(multiply_matrices(((1,3,4,4),(6,1,2,1),(3,6,4,-1),(6,9,0,1)),((1,),(0,),(4,),(5,))))\n"
   ]
  },
  {
   "cell_type": "code",
   "execution_count": 2,
   "metadata": {
    "collapsed": false
   },
   "outputs": [
    {
     "data": {
      "text/plain": [
       "(2, 2)"
      ]
     },
     "execution_count": 2,
     "metadata": {},
     "output_type": "execute_result"
    }
   ],
   "source": [
    "matrix_size(((2,1),(4,3)))"
   ]
  },
  {
   "cell_type": "code",
   "execution_count": 3,
   "metadata": {
    "collapsed": false
   },
   "outputs": [
    {
     "data": {
      "text/plain": [
       "((7, 8, 8), (11, 11, 14), (12, 8, 6))"
      ]
     },
     "execution_count": 3,
     "metadata": {},
     "output_type": "execute_result"
    }
   ],
   "source": [
    "add_matrices(((1,4,5),(4,6,7),(9,7,3)),((6,4,3),(7,5,7),(3,1,3)))"
   ]
  },
  {
   "cell_type": "code",
   "execution_count": 4,
   "metadata": {
    "collapsed": false
   },
   "outputs": [
    {
     "data": {
      "text/plain": [
       "((-5, 0, 2), (-3, 1, 0), (6, 6, 0))"
      ]
     },
     "execution_count": 4,
     "metadata": {},
     "output_type": "execute_result"
    }
   ],
   "source": [
    "substract_matrices(((1,4,5),(4,6,7),(9,7,3)),((6,4,3),(7,5,7),(3,1,3)))"
   ]
  },
  {
   "cell_type": "code",
   "execution_count": 5,
   "metadata": {
    "collapsed": false
   },
   "outputs": [
    {
     "data": {
      "text/plain": [
       "((49, 29, 46), (87, 53, 75), (112, 74, 85))"
      ]
     },
     "execution_count": 5,
     "metadata": {},
     "output_type": "execute_result"
    }
   ],
   "source": [
    "multiply_matrices(((1,4,5),(4,6,7),(9,7,3)),((6,4,3),(7,5,7),(3,1,3)))"
   ]
  },
  {
   "cell_type": "code",
   "execution_count": 6,
   "metadata": {
    "collapsed": false
   },
   "outputs": [
    {
     "data": {
      "text/plain": [
       "((-9, -52), (24, 12))"
      ]
     },
     "execution_count": 6,
     "metadata": {},
     "output_type": "execute_result"
    }
   ],
   "source": [
    "multiply_matrices(((3,-9,-8), (2,4,3)) , ((7,-3),(-2,3),(6,2)))"
   ]
  },
  {
   "cell_type": "code",
   "execution_count": 7,
   "metadata": {
    "collapsed": false
   },
   "outputs": [
    {
     "data": {
      "text/plain": [
       "((3, 2), (-3, 6))"
      ]
     },
     "execution_count": 7,
     "metadata": {},
     "output_type": "execute_result"
    }
   ],
   "source": [
    "add_matrices(((2,3),(1,4)),((1,-1),(-4,2)))"
   ]
  },
  {
   "cell_type": "code",
   "execution_count": 8,
   "metadata": {
    "collapsed": false
   },
   "outputs": [
    {
     "data": {
      "text/plain": [
       "((3, 3), (3, 4))"
      ]
     },
     "execution_count": 8,
     "metadata": {},
     "output_type": "execute_result"
    }
   ],
   "source": [
    "substract_matrices(((4,6),(5,3)),((1,3),(2,-1)))"
   ]
  },
  {
   "cell_type": "code",
   "execution_count": 9,
   "metadata": {
    "collapsed": false
   },
   "outputs": [
    {
     "data": {
      "text/plain": [
       "((19, -11), (14, -5))"
      ]
     },
     "execution_count": 9,
     "metadata": {},
     "output_type": "execute_result"
    }
   ],
   "source": [
    "multiply_matrices(((1,3,4),(6,1,2)),((1,0),(2,-1),(3,-2)))"
   ]
  },
  {
   "cell_type": "code",
   "execution_count": 10,
   "metadata": {
    "collapsed": false
   },
   "outputs": [
    {
     "data": {
      "text/plain": [
       "((39, 17, 35, 78), (19, 2, 37, 55), (22, -21, 58, 69), (29, -2, 69, 101))"
      ]
     },
     "execution_count": 10,
     "metadata": {},
     "output_type": "execute_result"
    }
   ],
   "source": [
    "multiply_matrices(((1,3,4,4),(6,1,2,1),(3,6,4,-1),(6,9,0,1)),((1,0,4,5),(2,-1,5,7),(3,-2,4,5),(5,7,0,8)))"
   ]
  },
  {
   "cell_type": "code",
   "execution_count": 11,
   "metadata": {
    "collapsed": false
   },
   "outputs": [
    {
     "data": {
      "text/plain": [
       "((37,), (19,), (14,), (11,))"
      ]
     },
     "execution_count": 11,
     "metadata": {},
     "output_type": "execute_result"
    }
   ],
   "source": [
    "multiply_matrices(((1,3,4,4),(6,1,2,1),(3,6,4,-1),(6,9,0,1)),((1,),(0,),(4,),(5,)))"
   ]
  },
  {
   "cell_type": "code",
   "execution_count": null,
   "metadata": {
    "collapsed": true
   },
   "outputs": [],
   "source": []
  }
 ],
 "metadata": {
  "kernelspec": {
   "display_name": "Python 3.6",
   "language": "python",
   "name": "python3.6"
  },
  "language_info": {
   "codemirror_mode": {
    "name": "ipython",
    "version": 3
   },
   "file_extension": ".py",
   "mimetype": "text/x-python",
   "name": "python",
   "nbconvert_exporter": "python",
   "pygments_lexer": "ipython3",
   "version": "3.6.6"
  }
 },
 "nbformat": 4,
 "nbformat_minor": 0
}
