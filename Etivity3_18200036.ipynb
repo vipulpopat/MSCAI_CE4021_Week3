{
 "cells": [
  {
   "cell_type": "markdown",
   "metadata": {},
   "source": [
    "#Student Name: Brian Parle\n",
    "#Student ID:   18200036"
   ]
  },
  {
   "cell_type": "markdown",
   "metadata": {},
   "source": [
    "#### Write Python functions for the following operations on matrices without making use of imported modules:\n",
    "\n",
    "- Providing the size of a matrix as a 2-dimensional tuple\n",
    "- Summing and subtracting two matrices\n",
    "- Multiplying two matrices or a vector and a matrix of suitable size\n",
    "\n",
    "GIT commit your tested code and push to your remote branch. Submit a message to the E-tivity 3: Matrices forum with a detailed description of how you have implemented the above described functionality and the name of your git branch. As part of this message, provide a worked out example of each of the operations detailed above applied to a 2x2 matrix of your choosing and verify that the results obtained with your functions are correct. You may add these calculations to your post using the formula editor or as a scan of handwritten notes.\n",
    "\n"
   ]
  },
  {
   "cell_type": "markdown",
   "metadata": {},
   "source": [
    "##### Methodology\n",
    "I will continue to use TDD as it worked well for me in Etivty2 to evolve the solution.\n",
    "I will use simple function calls to perform tests, rather than employ the full unittest framework\n",
    "I have a goal to exploit lambda functions if possible for simple functions where appropriate\n",
    "Matrices will be represented as a list of lists\n",
    "\n",
    "Assumptions:\n",
    "Matrices are valid i.e. each list entry represents a row, and each row will have the same number of elements\n",
    "I will dispense with a prettyprint function\n",
    "To keep the output tidy I will inly use integers\n",
    "\n",
    "Iterations\n",
    "1. write matrix_get_size function\n",
    "2. write matrix_add function\n",
    "3. write matrix_subtract function - amend matrix_add to allow passing of add or subtract function\n",
    "4. write matrix * vector function, assuming suitable sizes"
   ]
  },
  {
   "cell_type": "code",
   "execution_count": 38,
   "metadata": {},
   "outputs": [
    {
     "name": "stdout",
     "output_type": "stream",
     "text": [
      "size of [[2, 3], [5, 1]] is:\n",
      "(2, 2)\n",
      "size of [[7, 2, 6, -5, 4], [8, 0, 7, 5, 3], [3, -2, 6, 4, 0]] is:\n",
      "(3, 5)\n",
      "[[2, 3], [5, 1]] added to [[-3, 2], [7, 0]] is:\n",
      "[[-1, 5], [12, 1]]\n",
      "[[7, 2, 6, -5, 4], [8, 0, 7, 5, 3], [3, -2, 6, 4, 0]] added to [[4, 1, 1, 0, -1], [3, -6, 2, -3, -0.1], [2, 4, 2, -4, -2]] is:\n",
      "[[11, 3, 7, -5, 3], [11, -6, 9, 2, 2.9], [5, 2, 8, 0, -2]]\n",
      "[[2, 3], [5, 1]] subtract [[-3, 2], [7, 0]] is:\n",
      "[[5, 1], [-2, 1]]\n",
      "[[7, 2, 6, -5, 4], [8, 0, 7, 5, 3], [3, -2, 6, 4, 0]] subtract [[4, 1, 1, 0, -1], [3, -6, 2, -3, -0.1], [2, 4, 2, -4, -2]] is:\n",
      "[[3, 1, 5, -5, 5], [5, 6, 5, 8, 3.1], [1, -6, 4, 8, 2]]\n",
      "[[2, 3], [5, 1]] multiplied by [[-3, 2], [7, 0]] is:\n",
      "[[15, 4], [-8, 10]]\n"
     ]
    }
   ],
   "source": [
    "def matrix_get_size(matrix):\n",
    "    \"\"\"\n",
    "    Matrix size is (number of rows, number of columns)\n",
    "    \"\"\"\n",
    "    return (len(matrix), len(matrix[0]))\n",
    "\n",
    "def fn_add(x,y):\n",
    "    return x + y\n",
    "\n",
    "def fn_subtract(x,y):\n",
    "    return x - y\n",
    "\n",
    "def matrix_add_or_subtract(matrix1, matrix2, fn_operate):\n",
    "    \"\"\"\n",
    "    Purpose: Add or subtract 2 matrices. Add or subtract function is passed as argument\n",
    "    Assumptions: 2 matrices are the same size\n",
    "    \"\"\"\n",
    "    new_matrix = []\n",
    "    for rowindex, row in enumerate(matrix1):\n",
    "        new_row = []\n",
    "        for colindex, col in enumerate(matrix1[rowindex]):\n",
    "            new_row.append (fn_operate(row[colindex] , matrix2[rowindex][colindex]))\n",
    "        new_matrix.append (new_row)\n",
    "    return new_matrix\n",
    "\n",
    "def matrix_multiplication(matrix1, matrix2):\n",
    "    \"\"\"\n",
    "    Purpose: multiple 2 matrices or a matrix and vector\n",
    "    Assumption: Matrix and vector are compatible sizes\n",
    "                i.e.\n",
    "                No. of matrix1 columns must equal no. of matrix2 rows\n",
    "                No. of matrix2 columns = 1 for a vector\n",
    "    \"\"\"\n",
    "    m1_rowcount = len(matrix1)\n",
    "    m1_colcount = len(matrix1[0])\n",
    "    m2_colcount = len(matrix2[0])\n",
    "    new_matrix = []\n",
    "    for m1_rowindex in range(m1_rowcount):\n",
    "        #for this row in matrix1, multiple each rowitem by each item in the corresponding column in matrix2\n",
    "        new_row = []\n",
    "        for m2_colindex in range(m2_colcount):\n",
    "            #for this column in matrix2, sum the product of each row item with each column item\n",
    "            cell_sum = 0\n",
    "            for m1_colindex in range(m1_colcount):\n",
    "                #iterate through each item in the matrix1 row\n",
    "                cell_sum += matrix1[m1_rowindex][m1_colindex] * matrix2[m1_colindex][m2_colindex]\n",
    "            #add this item to the new matrix row\n",
    "            new_row.append (cell_sum)\n",
    "        #add the new matrix row to the output matrix\n",
    "        new_matrix.append (new_row)\n",
    "    return new_matrix\n",
    "\n",
    "#Test 1 - test a function to return the size of a 2x2 matrix.\n",
    "two_by_two_matrix = [[2,3],[5,1]]\n",
    "print(\"size of {} is:\".format(two_by_two_matrix))\n",
    "print (matrix_get_size(two_by_two_matrix))\n",
    "\n",
    "#Test 2 - get size of a 3x5 matrix\n",
    "three_by_five_matrix = [[7,2,6,-5,4],[8,0,7,5,3],[3,-2,6,4,0]]\n",
    "print(\"size of {} is:\".format(three_by_five_matrix))\n",
    "print (matrix_get_size(three_by_five_matrix))\n",
    "\n",
    "#Test 3 - test the summing of 2 matrices\n",
    "another_two_by_two_matrix = [[-3,2],[7,0]]\n",
    "another_three_by_five_matrix = [[4,1,1,0,-1],[3,-6,2,-3,-0.1],[2,4,2,-4,-2]]\n",
    "print(\"{} added to {} is:\".format(two_by_two_matrix,another_two_by_two_matrix))\n",
    "print (matrix_add_or_subtract(two_by_two_matrix, another_two_by_two_matrix, fn_add))\n",
    "print(\"{} added to {} is:\".format(three_by_five_matrix,another_three_by_five_matrix))\n",
    "print (matrix_add_or_subtract(three_by_five_matrix,another_three_by_five_matrix, fn_add))\n",
    "\n",
    "#Test 4 - test the subtraction of 2 matrices\n",
    "print(\"{} subtract {} is:\".format(two_by_two_matrix,another_two_by_two_matrix))\n",
    "print (matrix_add_or_subtract(two_by_two_matrix, another_two_by_two_matrix, fn_subtract))\n",
    "print(\"{} subtract {} is:\".format(three_by_five_matrix,another_three_by_five_matrix))\n",
    "print (matrix_add_or_subtract(three_by_five_matrix,another_three_by_five_matrix, fn_subtract))\n",
    "\n",
    "#Test 5 - test the multiplication of 2 matrices\n",
    "print(\"{} multiplied by {} is:\".format(two_by_two_matrix,another_two_by_two_matrix))\n",
    "print (matrix_multiplication(two_by_two_matrix, another_two_by_two_matrix))\n"
   ]
  },
  {
   "cell_type": "code",
   "execution_count": null,
   "metadata": {},
   "outputs": [],
   "source": []
  }
 ],
 "metadata": {
  "kernelspec": {
   "display_name": "Python 3",
   "language": "python",
   "name": "python3"
  },
  "language_info": {
   "codemirror_mode": {
    "name": "ipython",
    "version": 3
   },
   "file_extension": ".py",
   "mimetype": "text/x-python",
   "name": "python",
   "nbconvert_exporter": "python",
   "pygments_lexer": "ipython3",
   "version": "3.6.5"
  }
 },
 "nbformat": 4,
 "nbformat_minor": 1
}
