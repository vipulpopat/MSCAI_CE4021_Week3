{
 "cells": [
  {
   "cell_type": "markdown",
   "metadata": {},
   "source": [
    "Student Id: 18203485\n",
    "Name: Fergus Mc Hale"
   ]
  },
  {
   "cell_type": "markdown",
   "metadata": {},
   "source": [
    "Write Python functions for the following operations on matrices without making use of imported modules:\n",
    "\n",
    "Providing the size of a matrix as a 2-dimensional tuple - DONE (PASSED TEST/MATH Verification)\n",
    "Summing and subtracting two matrices -  DONE (PASSED TEST/MATH Verification)\n",
    "Multiplying two matrices or a vector and a matrix of suitable size - DONE (Matrix - Further Verification required as Maths and code dont align)\n",
    "GIT commit your tested code and push to your remote branch. Submit a message to the E-tivity 3: Matrices forum with a detailed description of how you have implemented the above described functionality and the name of your git branch. As part of this message, provide a worked out example of each of the operations detailed above applied to a 2x2 matrix of your choosing. You may add these calculations to your post using the formula editor or as a scan of handwritten notes. Use these same examples to test your code by invoking the functions you have written with your example matrices. These are the only tests required for this week's coding challenge. Furthermore, exception handling is not required."
   ]
  },
  {
   "cell_type": "markdown",
   "metadata": {},
   "source": [
    "Seperated out int functions of\n",
    "Shape Matrix : When given a matrix returns the row and column length\n",
    "Size Matrix : Gives an empty matrix of defined row * columns\n",
    "Calculate : Provides Addition and Subtraction for Matrixes\n",
    "Add subtract Matrix : Add/Subtract Matrixes\n",
    "Multiply Matrix : Multiply Matrixes see attached Maths Workout still figuring this one out as maths and code dont align fully"
   ]
  },
  {
   "cell_type": "code",
   "execution_count": null,
   "metadata": {},
   "outputs": [],
   "source": [
    "import unittest\n",
    "\n",
    "input_matrix_one_two_by_two = [[-3, 2], [6, -2]]\n",
    "input_matrix_two_two_by_two = [[12, 23],[ 5,  10]]\n",
    "\n",
    "\n",
    "def shape_matrix(matrix):\n",
    "    rows = len(matrix)\n",
    "    columns = len(matrix[0])\n",
    "    return [rows,columns]\n",
    "\n",
    "\n",
    "def size_matrix(rows, columns):\n",
    "    return [[0] * rows] * columns\n",
    "\n",
    "\n",
    "def generate_matrix(matrix):\n",
    "    matrix_definition = shape_matrix(matrix)\n",
    "    return size_matrix(matrix_definition[0], matrix_definition[1])\n",
    "\n",
    "\n",
    "def calculate(operation, value_one , value_two):\n",
    "    if operation == 'ADD':\n",
    "        return value_one + value_two\n",
    "    elif operation == 'SUBTRACT':\n",
    "        return value_one - value_two\n",
    "    \n",
    "def add_subtract_matrix(operation, matrix_one, matrix_two):\n",
    "    subtract_result  = [[0,0],[0,0]]\n",
    "    if validate_matrixes_are_equal(matrix_one, matrix_two):\n",
    "        for i in range(len(matrix_one)):\n",
    "            for j in range(len(matrix_one[0])):\n",
    "                subtract_result[i][j] = calculate(operation ,matrix_one[i][j],matrix_two[i][j])\n",
    "        return subtract_result\n",
    "\n",
    "    \n",
    "def multiply_matrix(matrix_one, matrix_two):\n",
    "    multiply_result = [[0,0],[0,0]]\n",
    "    if validate_matrixes_are_equal(matrix_one, matrix_two):\n",
    "        #go through each row of matrix one\n",
    "        for i in range(len(matrix_one)):\n",
    "            #go through each column of matrix two\n",
    "            for j in range(len(matrix_two[0])):\n",
    "                #go through each row of matrix two\n",
    "                for k in range(len(matrix_two)):\n",
    "                    multiply_result[i][j] += matrix_one[i][k] * matrix_two[k][j]\n",
    "        return multiply_result\n",
    "    \n",
    "     \n",
    "empty_matrix = generate_matrix(input_matrix_one_two_by_two)\n",
    "print(empty_matrix)\n",
    "matrix_add_result = add_subtract_matrix('ADD',input_matrix_one_two_by_two, input_matrix_two_two_by_two)\n",
    "print(matrix_add_result)\n",
    "matrix_subtract_result = add_subtract_matrix('SUBTRACT',input_matrix_one_two_by_two, input_matrix_two_two_by_two)\n",
    "print(matrix_subtract_result)\n",
    "matrix_multiply_result = multiply_matrix(input_matrix_one_two_by_two, input_matrix_two_two_by_two)\n",
    "print(matrix_multiply_result) \n",
    "\n",
    "\n",
    "class matrix_service_tests(unittest.TestCase):\n",
    "    def test_add_matrix(self):\n",
    "        self.assertEqual(add_matrix(input_matrix_one_two_by_two,input_matrix_two_two_by_two), [[9, 25], [11, 8]])\n",
    "        \n",
    "    def test_subtract_result(self):\n",
    "        self.assertEqual(subtract_matrix(input_matrix_one_two_by_two,input_matrix_two_two_by_two), [[-15, -21], [1, -12]])\n",
    "\n",
    "    def test_multiply_matrix(self):\n",
    "        self.assertEqual(multiply_matrix(input_matrix_one_two_by_two,input_matrix_two_two_by_two), [[102, -22], [45, -10]])\n",
    "    \n",
    "    def test_size_empty_matrix_two_by_two(self):\n",
    "        self.assertEqual(size_matrix(2,2), [[0, 0], [0, 0]])\n",
    "    \n",
    "    def test_size_empty_matrix_four_by_four(self):\n",
    "        self.assertEqual(size_matrix(4,4), [[0, 0, 0, 0], [0, 0, 0, 0], [0, 0, 0, 0], [0, 0, 0, 0]])\n",
    "                         \n",
    "\n",
    "if __name__ == '__main__':\n",
    "    unittest.main(argv=['first-arg-is-ignored'], exit=False)\n"
   ]
  }
 ],
 "metadata": {
  "kernelspec": {
   "display_name": "Python 3",
   "language": "python",
   "name": "python3"
  },
  "language_info": {
   "codemirror_mode": {
    "name": "ipython",
    "version": 3
   },
   "file_extension": ".py",
   "mimetype": "text/x-python",
   "name": "python",
   "nbconvert_exporter": "python",
   "pygments_lexer": "ipython3",
   "version": "3.6.5"
  }
 },
 "nbformat": 4,
 "nbformat_minor": 1
}
