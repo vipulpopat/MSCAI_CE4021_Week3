{
 "cells": [
  {
   "cell_type": "markdown",
   "metadata": {},
   "source": [
    "Student Id: 18203485\n",
    "Name: Fergus Mc Hale"
   ]
  },
  {
   "cell_type": "code",
   "execution_count": 84,
   "metadata": {},
   "outputs": [
    {
     "name": "stderr",
     "output_type": "stream",
     "text": [
      "........"
     ]
    },
    {
     "name": "stdout",
     "output_type": "stream",
     "text": [
      "[[9, 25], [11, 8]]\n",
      "[[-15, -21], [1, -12]]\n",
      "[[-26, -49], [62, 118]]\n"
     ]
    },
    {
     "name": "stderr",
     "output_type": "stream",
     "text": [
      "\n",
      "----------------------------------------------------------------------\n",
      "Ran 8 tests in 0.020s\n",
      "\n",
      "OK\n"
     ]
    }
   ],
   "source": [
    "#Modified Attempt\n",
    "input_matrix_one_two_by_two = [[-3, 2], [6, -2]]\n",
    "input_matrix_two_two_by_two = [[12, 23],[ 5,  10]]\n",
    " \n",
    "def size_empty_matrix(rows, columns):\n",
    "    return [[0] * rows] * columns\n",
    "\n",
    "def validate_matrixes_are_equal(matrix_one, matrix_two):\n",
    "    return len(matrix_one) == len(matrix_two)\n",
    "\n",
    "def add_matrix(matrix_one, matrix_two):\n",
    "    add_result = [[0,0],[0,0]]\n",
    "    if validate_matrixes_are_equal(matrix_one, matrix_two):\n",
    "        for i in range(len(matrix_one)):\n",
    "            for j in range(len(matrix_one[0])):\n",
    "                add_result[i][j] = matrix_one[i][j] + matrix_two[i][j]\n",
    "        return add_result\n",
    "\n",
    "def subtract_matrix(matrix_one, matrix_two):\n",
    "    subtract_result = [[0,0],[0,0]]\n",
    "    if validate_matrixes_are_equal(matrix_one, matrix_two):\n",
    "        for i in range(len(matrix_one)):\n",
    "            for j in range(len(matrix_one[0])):\n",
    "                subtract_result[i][j] = matrix_one[i][j] - matrix_two[i][j]\n",
    "        return subtract_result\n",
    "\n",
    "def multiply_matrix(matrix_one, matrix_two):\n",
    "    multiply_result = [[0,0],[0,0]]\n",
    "    if validate_matrixes_are_equal(matrix_one, matrix_two):\n",
    "        for i in range(len(matrix_one)):\n",
    "            for j in range(len(matrix_two[0])):\n",
    "                for k in range(len(matrix_two)):\n",
    "                    multiply_result[i][j] += matrix_one[i][k] * matrix_two[k][j]\n",
    "        return multiply_result\n",
    "\n",
    "    \n",
    "matrix_add_result = add_matrix(input_matrix_one_two_by_two, input_matrix_two_two_by_two)\n",
    "print(matrix_add_result)\n",
    "matrix_subtract_result = subtract_matrix(input_matrix_one_two_by_two, input_matrix_two_two_by_two)\n",
    "print(matrix_subtract_result)\n",
    "matrix_multiply_result = multiply_matrix(input_matrix_one_two_by_two, input_matrix_two_two_by_two)\n",
    "print(matrix_multiply_result)\n",
    "\n",
    "\n",
    "class matrix_service_tests(unittest.TestCase):\n",
    "    def test_add_matrix(self):\n",
    "        self.assertEqual(add_matrix(input_matrix_one_two_by_two,input_matrix_two_two_by_two), [[9, 25], [11, 8]])\n",
    "        \n",
    "    def test_subtract_result(self):\n",
    "        self.assertEqual(subtract_matrix(input_matrix_one_two_by_two,input_matrix_two_two_by_two), [[-15, -21], [1, -12]])\n",
    "\n",
    "    def test_multiply_matrix(self):\n",
    "        self.assertEqual(multiply_matrix(input_matrix_one_two_by_two,input_matrix_two_two_by_two), [[-26, -49], [62, 118]])\n",
    "    \n",
    "    def test_size_empty_matrix_two_by_two(self):\n",
    "        self.assertEqual(size_empty_matrix(2,2), [[0, 0], [0, 0]])\n",
    "    \n",
    "    def test_size_empty_matrix_four_by_four(self):\n",
    "        self.assertEqual(size_empty_matrix(4,2), [[0, 0, 0, 0], [0, 0, 0, 0]])\n",
    "                         \n",
    "\n",
    "if __name__ == '__main__':\n",
    "    unittest.main(argv=['first-arg-is-ignored'], exit=False)"
   ]
  }
 ],
 "metadata": {
  "kernelspec": {
   "display_name": "Python 3",
   "language": "python",
   "name": "python3"
  },
  "language_info": {
   "codemirror_mode": {
    "name": "ipython",
    "version": 3
   },
   "file_extension": ".py",
   "mimetype": "text/x-python",
   "name": "python",
   "nbconvert_exporter": "python",
   "pygments_lexer": "ipython3",
   "version": "3.6.5"
  }
 },
 "nbformat": 4,
 "nbformat_minor": 1
}
